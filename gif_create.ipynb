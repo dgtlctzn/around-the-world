{
 "cells": [
  {
   "cell_type": "code",
   "execution_count": 4,
   "metadata": {},
   "outputs": [],
   "source": [
    "import folium\n",
    "import pandas as pd\n",
    "import json"
   ]
  },
  {
   "cell_type": "markdown",
   "metadata": {},
   "source": [
    "## GeoJson\n",
    "loads geojson data from file to access country names with location data"
   ]
  },
  {
   "cell_type": "code",
   "execution_count": 5,
   "metadata": {},
   "outputs": [],
   "source": [
    "with open('./world/json/world_countries.json', 'r') as file:\n",
    "    data = json.load(file)\n",
    "countries = data['features']"
   ]
  },
  {
   "cell_type": "markdown",
   "metadata": {},
   "source": [
    "## Pandas\n",
    "creates a dictionary and imports into Pandas as a dataframe"
   ]
  },
  {
   "cell_type": "code",
   "execution_count": 6,
   "metadata": {},
   "outputs": [],
   "source": [
    "country_dict = {}\n",
    "for n, country in enumerate(countries):\n",
    "    country_dict[n] = country['properties']['name']\n"
   ]
  },
  {
   "cell_type": "code",
   "execution_count": 7,
   "metadata": {},
   "outputs": [],
   "source": [
    "country_df = pd.DataFrame.from_dict(country_dict, orient='index', columns=['name'])\n",
    "country_df['value'] = 0"
   ]
  },
  {
   "cell_type": "markdown",
   "metadata": {},
   "source": [
    "## Write File\n",
    "countries are gradually added to the df by slicing ```[:i]``` and mapped with choropleth\n",
    "\n",
    "\n",
    "for every two countries added an html file is created"
   ]
  },
  {
   "cell_type": "code",
   "execution_count": 235,
   "metadata": {},
   "outputs": [],
   "source": [
    "for i in range(0, 40, 2):\n",
    "    countries = country_df[:i]\n",
    "    my_map = folium.Map(location=[35, 0], \n",
    "                    zoom_start=1.5, \n",
    "                    zoom_control=False, \n",
    "                    control_scale=False, \n",
    "                    no_touch=True, min_zoom=2)\n",
    "    folium.Choropleth(geo_data='world/json/world_countries.json',\n",
    "             name='My Countries',\n",
    "             data=countries,\n",
    "             columns=['name', 'value'],\n",
    "             key_on='feature.properties.name',\n",
    "             fill_color='BuGn',\n",
    "             nan_fill_color='white'\n",
    "            ).add_to(my_map)\n",
    "    my_map.save(f'./images/map{i}.html')\n"
   ]
  },
  {
   "cell_type": "code",
   "execution_count": null,
   "metadata": {},
   "outputs": [],
   "source": []
  }
 ],
 "metadata": {
  "kernelspec": {
   "display_name": "Python 3",
   "language": "python",
   "name": "python3"
  },
  "language_info": {
   "codemirror_mode": {
    "name": "ipython",
    "version": 3
   },
   "file_extension": ".py",
   "mimetype": "text/x-python",
   "name": "python",
   "nbconvert_exporter": "python",
   "pygments_lexer": "ipython3",
   "version": "3.7.6"
  }
 },
 "nbformat": 4,
 "nbformat_minor": 4
}
